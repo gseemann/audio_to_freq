{
 "cells": [
  {
   "cell_type": "markdown",
   "metadata": {},
   "source": [
    "## Reading and Plotting Audio Data"
   ]
  },
  {
   "cell_type": "code",
   "execution_count": 1,
   "metadata": {
    "ExecuteTime": {
     "end_time": "2020-10-15T23:32:57.607266Z",
     "start_time": "2020-10-15T23:32:57.180161Z"
    }
   },
   "outputs": [],
   "source": [
    "import numpy as np\n",
    "import matplotlib.pyplot as plt \n",
    "from scipy.io import wavfile"
   ]
  },
  {
   "cell_type": "code",
   "execution_count": 18,
   "metadata": {
    "ExecuteTime": {
     "end_time": "2020-10-15T23:48:38.450565Z",
     "start_time": "2020-10-15T23:48:38.447634Z"
    }
   },
   "outputs": [],
   "source": [
    "sampling_freq, audio = wavfile.read('Chapter07/input_read.wav')"
   ]
  },
  {
   "cell_type": "code",
   "execution_count": 19,
   "metadata": {
    "ExecuteTime": {
     "end_time": "2020-10-15T23:48:40.274363Z",
     "start_time": "2020-10-15T23:48:40.270095Z"
    }
   },
   "outputs": [
    {
     "name": "stdout",
     "output_type": "stream",
     "text": [
      "Shape: (132300,)\n",
      "Datatype: int16\n",
      "Duration: 3.0 seconds\n",
      "sampling_freq: 44100\n"
     ]
    }
   ],
   "source": [
    "# Print the params\n",
    "print('Shape:', audio.shape)\n",
    "print('Datatype:', audio.dtype)\n",
    "print('Duration:', round(audio.shape[0] / float(sampling_freq), 3), 'seconds')\n",
    "print('sampling_freq:', sampling_freq)"
   ]
  },
  {
   "cell_type": "code",
   "execution_count": 20,
   "metadata": {
    "ExecuteTime": {
     "end_time": "2020-10-15T23:48:45.949176Z",
     "start_time": "2020-10-15T23:48:45.946192Z"
    }
   },
   "outputs": [],
   "source": [
    "# Normalize the values \n",
    "audio = audio / (2.**15)"
   ]
  },
  {
   "cell_type": "code",
   "execution_count": 21,
   "metadata": {
    "ExecuteTime": {
     "end_time": "2020-10-15T23:48:46.842140Z",
     "start_time": "2020-10-15T23:48:46.839903Z"
    }
   },
   "outputs": [],
   "source": [
    "# Extract first 30 values for plotting \n",
    "audio = audio[:30]"
   ]
  },
  {
   "cell_type": "code",
   "execution_count": 23,
   "metadata": {
    "ExecuteTime": {
     "end_time": "2020-10-15T23:48:56.877122Z",
     "start_time": "2020-10-15T23:48:56.873287Z"
    }
   },
   "outputs": [
    {
     "data": {
      "text/plain": [
       "array([ 0,  1,  2,  3,  4,  5,  6,  7,  8,  9, 10, 11, 12, 13, 14, 15, 16,\n",
       "       17, 18, 19, 20, 21, 22, 23, 24, 25, 26, 27, 28, 29])"
      ]
     },
     "execution_count": 23,
     "metadata": {},
     "output_type": "execute_result"
    }
   ],
   "source": [
    "np.arange(0, len(audio), 1)"
   ]
  },
  {
   "cell_type": "code",
   "execution_count": 24,
   "metadata": {
    "ExecuteTime": {
     "end_time": "2020-10-15T23:49:20.174563Z",
     "start_time": "2020-10-15T23:49:20.172125Z"
    }
   },
   "outputs": [],
   "source": [
    "# Build the time axis\n",
    "x_values = np.arange(0, len(audio), 1) / float(sampling_freq)"
   ]
  },
  {
   "cell_type": "code",
   "execution_count": 25,
   "metadata": {
    "ExecuteTime": {
     "end_time": "2020-10-15T23:49:27.768349Z",
     "start_time": "2020-10-15T23:49:27.764160Z"
    }
   },
   "outputs": [
    {
     "data": {
      "text/plain": [
       "array([0.        , 0.02267574, 0.04535147, 0.06802721, 0.09070295,\n",
       "       0.11337868, 0.13605442, 0.15873016, 0.1814059 , 0.20408163,\n",
       "       0.22675737, 0.24943311, 0.27210884, 0.29478458, 0.31746032,\n",
       "       0.34013605, 0.36281179, 0.38548753, 0.40816327, 0.430839  ,\n",
       "       0.45351474, 0.47619048, 0.49886621, 0.52154195, 0.54421769,\n",
       "       0.56689342, 0.58956916, 0.6122449 , 0.63492063, 0.65759637])"
      ]
     },
     "execution_count": 25,
     "metadata": {},
     "output_type": "execute_result"
    }
   ],
   "source": [
    "x_values*1000"
   ]
  },
  {
   "cell_type": "code",
   "execution_count": 26,
   "metadata": {
    "ExecuteTime": {
     "end_time": "2020-10-15T23:49:29.951052Z",
     "start_time": "2020-10-15T23:49:29.948755Z"
    }
   },
   "outputs": [],
   "source": [
    "# Convert to seconds \n",
    "x_values *= 1000"
   ]
  },
  {
   "cell_type": "code",
   "execution_count": 27,
   "metadata": {
    "ExecuteTime": {
     "end_time": "2020-10-15T23:49:31.145317Z",
     "start_time": "2020-10-15T23:49:31.017712Z"
    }
   },
   "outputs": [
    {
     "data": {
      "image/png": "[encoded data removed]",
      "text/plain": [
       "<Figure size 432x288 with 1 Axes>"
      ]
     },
     "metadata": {
      "needs_background": "light"
     },
     "output_type": "display_data"
    }
   ],
   "source": [
    "# Plotting the chopped audio signal \n",
    "plt.plot(x_values, audio, color='black') \n",
    "plt.xlabel('Time (ms)') \n",
    "plt.ylabel('Amplitude')\n",
    "plt.title('Audio signal') \n",
    "plt.show()"
   ]
  },
  {
   "cell_type": "code",
   "execution_count": null,
   "metadata": {},
   "outputs": [],
   "source": []
  }
 ],
 "metadata": {
  "kernelspec": {
   "display_name": "Python [conda env:root] *",
   "language": "python",
   "name": "conda-root-py"
  },
  "language_info": {
   "codemirror_mode": {
    "name": "ipython",
    "version": 3
   },
   "file_extension": ".py",
   "mimetype": "text/x-python",
   "name": "python",
   "nbconvert_exporter": "python",
   "pygments_lexer": "ipython3",
   "version": "3.7.7"
  },
  "varInspector": {
   "cols": {
    "lenName": 16,
    "lenType": 16,
    "lenVar": 40
   },
   "kernels_config": {
    "python": {
     "delete_cmd_postfix": "",
     "delete_cmd_prefix": "del ",
     "library": "var_list.py",
     "varRefreshCmd": "print(var_dic_list())"
    },
    "r": {
     "delete_cmd_postfix": ") ",
     "delete_cmd_prefix": "rm(",
     "library": "var_list.r",
     "varRefreshCmd": "cat(var_dic_list()) "
    }
   },
   "types_to_exclude": [
    "module",
    "function",
    "builtin_function_or_method",
    "instance",
    "_Feature"
   ],
   "window_display": false
  }
 },
 "nbformat": 4,
 "nbformat_minor": 4
}
